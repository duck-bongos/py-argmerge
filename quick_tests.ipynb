{
 "cells": [
  {
   "cell_type": "code",
   "execution_count": null,
   "id": "7b4cdf2e",
   "metadata": {},
   "outputs": [],
   "source": [
    "changes = [\n",
    "    {'Python function default': set()},\n",
    "{'JSON (threshold.json)': {'age', 'food', 'color'}},\n",
    "{'YAML (threshold.yaml)': set()},\n",
    "{'CLI': {'go', 'here'}},\n",
    "{'Developer-provided argument': set()},\n",
    "]\n",
    "final = {'food': 'Pizza', 'color': 'orange', 'age': '88', 'here': 'we', 'go': 'again'},"
   ]
  },
  {
   "cell_type": "code",
   "execution_count": 21,
   "id": "d16d79b2",
   "metadata": {},
   "outputs": [],
   "source": [
    "from inspect import signature, Parameter\n",
    "\n",
    "def do(a: int, b: str, c: float=3.,*args, **kwargs):\n",
    "    pass"
   ]
  },
  {
   "cell_type": "code",
   "execution_count": 22,
   "id": "d1e94e0a",
   "metadata": {},
   "outputs": [
    {
     "name": "stdout",
     "output_type": "stream",
     "text": [
      "POSITIONAL_OR_KEYWORD\n",
      "POSITIONAL_OR_KEYWORD\n",
      "POSITIONAL_OR_KEYWORD\n",
      "VAR_POSITIONAL\n",
      "VAR_KEYWORD\n"
     ]
    }
   ],
   "source": [
    "_sig = signature(do)\n",
    "\n",
    "\n",
    "_default = {}\n",
    "for k, v in _sig.parameters.items():\n",
    "    print(v.kind)"
   ]
  },
  {
   "cell_type": "code",
   "execution_count": 23,
   "id": "b37abfc7",
   "metadata": {},
   "outputs": [
    {
     "data": {
      "text/plain": [
       "False"
      ]
     },
     "execution_count": 23,
     "metadata": {},
     "output_type": "execute_result"
    }
   ],
   "source": [
    "'e' in _sig.parameters"
   ]
  },
  {
   "cell_type": "code",
   "execution_count": 56,
   "id": "1ce6db48",
   "metadata": {},
   "outputs": [],
   "source": [
    "d = {'food': {'label': 'JSON (threshold.json)', 'rank': 10}, 'color': {'label': 'YAML (threshold.yaml)', 'rank': 20}, 'age': {'label': 'CLI', 'rank': 40}, 'country': {'label': 'CLI', 'rank': 40}}\n",
    "ranks = {k: v['rank'] for k, v in d.items()}\n",
    "labels = {k: v['label'] for k, v in d.items()}"
   ]
  },
  {
   "cell_type": "code",
   "execution_count": null,
   "id": "1c6196d6",
   "metadata": {},
   "outputs": [],
   "source": []
  }
 ],
 "metadata": {
  "kernelspec": {
   "display_name": "pyprogram-threshold",
   "language": "python",
   "name": "python3"
  },
  "language_info": {
   "codemirror_mode": {
    "name": "ipython",
    "version": 3
   },
   "file_extension": ".py",
   "mimetype": "text/x-python",
   "name": "python",
   "nbconvert_exporter": "python",
   "pygments_lexer": "ipython3",
   "version": "3.13.0"
  }
 },
 "nbformat": 4,
 "nbformat_minor": 5
}
